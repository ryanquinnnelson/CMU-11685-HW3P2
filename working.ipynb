{
 "cells": [
  {
   "cell_type": "code",
   "execution_count": 1,
   "id": "a146183c-83b3-43a3-ad11-a838d4a83945",
   "metadata": {},
   "outputs": [],
   "source": [
    "import torch"
   ]
  },
  {
   "cell_type": "code",
   "execution_count": 2,
   "id": "685e9821-8043-4599-8914-91e7f6822d6c",
   "metadata": {},
   "outputs": [
    {
     "name": "stdout",
     "output_type": "stream",
     "text": [
      "weight_ih_l0 torch.Size([16, 1])\n",
      "weight_hh_l0 torch.Size([16, 4])\n",
      "bias_ih_l0 torch.Size([16])\n",
      "bias_hh_l0 torch.Size([16])\n"
     ]
    }
   ],
   "source": [
    "lstm = torch.nn.LSTM(input_size=1,hidden_size=4,num_layers=1)\n",
    "for name, param in lstm.named_parameters():\n",
    "    print(name, param.shape)"
   ]
  },
  {
   "cell_type": "markdown",
   "id": "065ae04a-0c6a-4825-9419-de5aed2e4d4c",
   "metadata": {
    "tags": []
   },
   "source": [
    "## Questions\n",
    "\n",
    "weight_ih: input weights\n",
    "\n",
    "weight_hh: hidden weights\n",
    "\n",
    "dimensions: input, forget, cell, output weights stacked\n",
    "\n",
    "version of LSTM: Wikipedia version (no peephole connection)\n",
    "\n",
    "initialization? using fan_out, initialize each one of four matrices separately (3 if GRU)\n"
   ]
  },
  {
   "cell_type": "markdown",
   "id": "9f154a78-3a43-4413-9cc6-5756fcc15d69",
   "metadata": {
    "tags": []
   },
   "source": [
    "# Shakespeare Language Model"
   ]
  },
  {
   "cell_type": "code",
   "execution_count": 5,
   "id": "a8689195-2699-4a3b-a0aa-167e3b1f71ca",
   "metadata": {},
   "outputs": [
    {
     "data": {
      "text/plain": [
       "'cpu'"
      ]
     },
     "execution_count": 5,
     "metadata": {},
     "output_type": "execute_result"
    }
   ],
   "source": [
    "# import torch\n",
    "# import torch.nn as nn\n",
    "# import torch.nn.utils.rnn as rnn\n",
    "# from torch.utils.data import Dataset, DataLoader, TensorDataset\n",
    "# import numpy as np\n",
    "# import time\n",
    "# # import shakespeare_data as sh\n",
    "\n",
    "# device = \"cuda\" if torch.cuda.is_available() else \"cpu\"\n",
    "# device"
   ]
  },
  {
   "cell_type": "markdown",
   "id": "20bb368b-f389-4636-b7c5-c8b6078832ed",
   "metadata": {},
   "source": [
    "# Fixed length input"
   ]
  },
  {
   "cell_type": "code",
   "execution_count": null,
   "id": "5179b9b4-2507-40f0-accc-b850e50c4bd5",
   "metadata": {},
   "outputs": [],
   "source": [
    "# # data - refere to shakespeare_data.py for details\n",
    "# corpus = sh.read_corpus()\n",
    "# chars, charmap = sh.get_charmap(corpus)\n",
    "# charcount = len(chars)\n",
    "# shakespeare_array = sh.map_corpus(corpus, charmap)\n",
    "# small_example = shakespeare_array[:17]"
   ]
  },
  {
   "cell_type": "code",
   "execution_count": null,
   "id": "5d854fa0-3e8f-4fa9-8324-0daaad61bf77",
   "metadata": {},
   "outputs": [],
   "source": [
    "# # dataset class\n",
    "# # transforms raw text into a set of sequences of fixed length\n",
    "# # extracts inputs and targets\n",
    "# class TextDataset(Dataset):\n",
    "    \n",
    "#     def __init__(self, text, seq_len=200):\n",
    "#         n_seq = len(text) // seq_len\n",
    "#         text = text[:n_seq * seq_len]\n",
    "#         self.data = torch.tensor(text).view(-1, seq_len)\n",
    "        \n",
    "#     def __getitem__(self,i):\n",
    "#         txt = self.data[i]\n",
    "        \n",
    "#         # labels are the input sequence shifted by 1\n",
    "#         return txt[:-1],txt[1:]\n",
    "    \n",
    "#     def __len__(self):\n",
    "#         return self.data.size(0)\n",
    "    \n",
    "#     def collate(seq_list):\n",
    "#         inputs = torch.cat([s[0].unsqueeze(1) for s in seq_list], dim=1)\n",
    "#         targets = torch.cat([s[1].unsqueeze(1) for s in seq_list],dim=1)\n",
    "#         return inputs,targets"
   ]
  },
  {
   "cell_type": "code",
   "execution_count": 21,
   "id": "59c75671-a90c-4d39-9c93-215559cb41aa",
   "metadata": {},
   "outputs": [],
   "source": [
    "# # model\n",
    "# class CharLanguageModel(nn.Module):\n",
    "#     def __init__(self,vocab_size,embed_size,hidden_size,nlayers):\n",
    "#         super(CharLanguageModel,self).__init__()\n",
    "#         self.vocab_size = vocab_size\n",
    "#         self.embed_size = embed_size\n",
    "#         self.hidden_size = hidden_size\n",
    "#         self.nlayers = nlayers\n",
    "#         self.embedding = nn.Embedding(vocab_size, embed_size)\n",
    "#         self.rnn = nn.LSTM(input_size = embed_size, hidden_size = hidden_size,num_layers=nlayers)\n",
    "        \n",
    "#         self.scoring = nn.Linear(hidden_size,vocab_size) # projection layer\n",
    "        \n",
    "#     def forward(self, seq_batch): # L x N\n",
    "#         batch_size = seq_batch.size(1)\n",
    "#         embed = self.embedding(seq_batch)  # L x N x E\n",
    "#         hidden = None\n",
    "#         output_lstm, hidden = self.rnn(embed, hidden) # L x N x H\n",
    "#         output_lstm_flatten = output_lstm.view(-1,self.hidden_size) # (L * N) x H\n",
    "#         output_flatten = self.scoring(output_lstm_flatten) # (L * N ) x V\n",
    "#         return output_flatten.view(-1,batch_size,self.vocab_size)\n",
    "    \n",
    "#     # greedy search to extract and return words (one sequence)\n",
    "#     def generate(self, seq, n_words): # L x V\n",
    "#         generated_words = []\n",
    "#         embed = self.embedding(seq).unsqueeze(1) # L x 1 # E\n",
    "#         hidden = None\n",
    "#         output_lstm, hidden = self.rnn(embed,hidden) # L x 1 x H\n",
    "#         output = output_lstm[-1] # 1 x H\n",
    "#         scores = self.scoring(output) # 1 x V\n",
    "#         _,current_word = torch.max(scores,dim=1) # 1 x 1\n",
    "#         generated_words.append(current_word)\n",
    "        \n",
    "#         if n_words > 1:\n",
    "#             for i in range(n_words-1):\n",
    "#                 embed = self.embedding(current_word).unsqueeze(0) # 1 x 1 x E\n",
    "#                 output_lstm, hidden = self.rnn(embed, hidden) # 1 x 1 x H\n",
    "#                 output = output_lstm[0] # 1 x H\n",
    "#                 scores= self.scoring(output) # V\n",
    "#                 _,current_word = torch.max(scores,dim=1) # 1 x 1\n",
    "#                 generated_words.append(current_word)\n",
    "#         return torch.cat(generated_words,dim=0)\n",
    "        "
   ]
  },
  {
   "cell_type": "code",
   "execution_count": 22,
   "id": "d7c32ebc-32d4-4ab8-822e-e4acb1f868f3",
   "metadata": {},
   "outputs": [],
   "source": [
    "# def train_epoch(model, optimizer, train_loader, val_loader):\n",
    "#     criterion = nn.CrossEntropyLoss()\n",
    "#     criterion = criterion.to(device)\n",
    "#     before = time.time()\n",
    "    \n",
    "#     for batch_idx, (inputs,targets) in enumerate(train_loader):\n",
    "#         inputs = inputs.to(device)\n",
    "#         targets = targets.to(device)\n",
    "#         outputs = model(inputs)\n",
    "#         loss = criterion(outputs.view(-1,outputs.size(2)),targets.view(-1))\n",
    "#         optimizer.zero_grad()\n",
    "#         loss.backward()\n",
    "#         optimizer.step()\n",
    "        \n",
    "#         val_loss = 0\n",
    "#         batch_id = 0\n",
    "#         for inputs,targets in val_loader:\n",
    "#             batch_id+=1\n",
    "#             inputs = inputs.to(device)\n",
    "#             targets = targets.to(device)\n",
    "#             outputs= model(inputs)\n",
    "#             loss = criterion(outputs.view(-1,outputs.size(2)),targets.view(-1))\n",
    "#             val_loss += loss.item()\n",
    "#         val_lpw = val_loss / batch_id\n",
    "        \n",
    "            "
   ]
  },
  {
   "cell_type": "code",
   "execution_count": 23,
   "id": "963d50d2-7453-4917-a0cb-6179cbe88c56",
   "metadata": {},
   "outputs": [
    {
     "ename": "NameError",
     "evalue": "name 'charcount' is not defined",
     "output_type": "error",
     "traceback": [
      "\u001b[0;31m---------------------------------------------------------------------------\u001b[0m",
      "\u001b[0;31mNameError\u001b[0m                                 Traceback (most recent call last)",
      "\u001b[0;32m/var/folders/5d/td2lpmcj3vq5wsprrdr42r9w0000gn/T/ipykernel_9597/4036446432.py\u001b[0m in \u001b[0;36m<module>\u001b[0;34m\u001b[0m\n\u001b[0;32m----> 1\u001b[0;31m \u001b[0mmodel\u001b[0m \u001b[0;34m=\u001b[0m \u001b[0mCharLanguageModel\u001b[0m\u001b[0;34m(\u001b[0m\u001b[0mcharcount\u001b[0m\u001b[0;34m,\u001b[0m \u001b[0;36m256\u001b[0m\u001b[0;34m,\u001b[0m\u001b[0;36m256\u001b[0m\u001b[0;34m,\u001b[0m\u001b[0;36m3\u001b[0m\u001b[0;34m)\u001b[0m\u001b[0;34m\u001b[0m\u001b[0;34m\u001b[0m\u001b[0m\n\u001b[0m\u001b[1;32m      2\u001b[0m \u001b[0mmodel\u001b[0m \u001b[0;34m=\u001b[0m \u001b[0mmodel\u001b[0m\u001b[0;34m.\u001b[0m\u001b[0mto\u001b[0m\u001b[0;34m(\u001b[0m\u001b[0mdevice\u001b[0m\u001b[0;34m)\u001b[0m\u001b[0;34m\u001b[0m\u001b[0;34m\u001b[0m\u001b[0m\n\u001b[1;32m      3\u001b[0m \u001b[0moptimizer\u001b[0m \u001b[0;34m=\u001b[0m \u001b[0mtorch\u001b[0m\u001b[0;34m.\u001b[0m\u001b[0moptim\u001b[0m\u001b[0;34m.\u001b[0m\u001b[0mAdam\u001b[0m\u001b[0;34m(\u001b[0m\u001b[0mmodel\u001b[0m\u001b[0;34m.\u001b[0m\u001b[0mparameters\u001b[0m\u001b[0;34m(\u001b[0m\u001b[0;34m)\u001b[0m\u001b[0;34m,\u001b[0m \u001b[0mlr\u001b[0m\u001b[0;34m=\u001b[0m\u001b[0;36m0.001\u001b[0m\u001b[0;34m,\u001b[0m \u001b[0mweight_decay\u001b[0m\u001b[0;34m=\u001b[0m\u001b[0;36m1e-6\u001b[0m\u001b[0;34m)\u001b[0m\u001b[0;34m\u001b[0m\u001b[0;34m\u001b[0m\u001b[0m\n\u001b[1;32m      4\u001b[0m \u001b[0msplit\u001b[0m \u001b[0;34m=\u001b[0m \u001b[0;36m5000000\u001b[0m\u001b[0;34m\u001b[0m\u001b[0;34m\u001b[0m\u001b[0m\n\u001b[1;32m      5\u001b[0m \u001b[0mtrain_dataset\u001b[0m \u001b[0;34m=\u001b[0m \u001b[0mTextDataset\u001b[0m\u001b[0;34m(\u001b[0m\u001b[0mshakespeare_array\u001b[0m\u001b[0;34m[\u001b[0m\u001b[0;34m:\u001b[0m\u001b[0msplit\u001b[0m\u001b[0;34m]\u001b[0m\u001b[0;34m)\u001b[0m\u001b[0;34m\u001b[0m\u001b[0;34m\u001b[0m\u001b[0m\n",
      "\u001b[0;31mNameError\u001b[0m: name 'charcount' is not defined"
     ]
    }
   ],
   "source": [
    "# model = CharLanguageModel(charcount, 256,256,3)\n",
    "# model = model.to(device)\n",
    "# optimizer = torch.optim.Adam(model.parameters(), lr=0.001, weight_decay=1e-6)\n",
    "# split = 5000000\n",
    "# train_dataset = TextDataset(shakespeare_array[:split])\n",
    "# val_dataset = TextDataset(shakespeare_array[split:])\n",
    "# train_loader = DataLoader(train_dataset, shuffle=True, batch_size=64, collate_fn=collate)\n",
    "# val_loader = DataLoader(train_dataset, shuffle=False, batch_size=64, collate_fn=collate,drop_last=True)\n"
   ]
  },
  {
   "cell_type": "code",
   "execution_count": 24,
   "id": "766ed6f3-95ea-44b8-8dd4-8a45cf89b2cb",
   "metadata": {},
   "outputs": [
    {
     "ename": "NameError",
     "evalue": "name 'model' is not defined",
     "output_type": "error",
     "traceback": [
      "\u001b[0;31m---------------------------------------------------------------------------\u001b[0m",
      "\u001b[0;31mNameError\u001b[0m                                 Traceback (most recent call last)",
      "\u001b[0;32m/var/folders/5d/td2lpmcj3vq5wsprrdr42r9w0000gn/T/ipykernel_9597/219481753.py\u001b[0m in \u001b[0;36m<module>\u001b[0;34m\u001b[0m\n\u001b[1;32m      1\u001b[0m \u001b[0;32mfor\u001b[0m \u001b[0mi\u001b[0m \u001b[0;32min\u001b[0m \u001b[0mrange\u001b[0m\u001b[0;34m(\u001b[0m\u001b[0;36m3\u001b[0m\u001b[0;34m)\u001b[0m\u001b[0;34m:\u001b[0m\u001b[0;34m\u001b[0m\u001b[0;34m\u001b[0m\u001b[0m\n\u001b[0;32m----> 2\u001b[0;31m     \u001b[0mtrain_epoch\u001b[0m\u001b[0;34m(\u001b[0m\u001b[0mmodel\u001b[0m\u001b[0;34m,\u001b[0m \u001b[0moptimizer\u001b[0m\u001b[0;34m,\u001b[0m \u001b[0mtrain_loader\u001b[0m\u001b[0;34m,\u001b[0m \u001b[0mval_loader\u001b[0m\u001b[0;34m)\u001b[0m\u001b[0;34m\u001b[0m\u001b[0;34m\u001b[0m\u001b[0m\n\u001b[0m",
      "\u001b[0;31mNameError\u001b[0m: name 'model' is not defined"
     ]
    }
   ],
   "source": [
    "# for i in range(3):\n",
    "#     train_epoch(model, optimizer, train_loader, val_loader)"
   ]
  },
  {
   "cell_type": "code",
   "execution_count": 26,
   "id": "680577c9-863f-48f6-8863-1c8779efe66a",
   "metadata": {},
   "outputs": [],
   "source": [
    "# def generate(model, seed, nwords):\n",
    "#     seq = sh.map_corpus(seed, charmap)\n",
    "#     seq = torch.tensor(seq).to(device)\n",
    "#     out = model.generate(seq,nwords)\n",
    "#     return sh.to_text(out.cpu().detach().numpy(), chars)"
   ]
  },
  {
   "cell_type": "code",
   "execution_count": 35,
   "id": "c88d89ac-4cc0-40c0-810e-38fe530feedb",
   "metadata": {
    "tags": []
   },
   "outputs": [
    {
     "name": "stdout",
     "output_type": "stream",
     "text": [
      "[tensor([1, 2, 3, 5]), tensor([3, 4])]\n",
      "tensor([[1, 2, 3, 5],\n",
      "        [3, 4, 0, 0]])\n"
     ]
    }
   ],
   "source": [
    "a = [torch.tensor([1,2,3,5]), torch.tensor([3,4])]\n",
    "print(a)\n",
    "b = torch.nn.utils.rnn.pad_sequence(a, batch_first=True)\n",
    "print(b)"
   ]
  },
  {
   "cell_type": "code",
   "execution_count": 37,
   "id": "4a774f25-2557-41d0-b483-1d585f649220",
   "metadata": {},
   "outputs": [
    {
     "data": {
      "text/plain": [
       "PackedSequence(data=tensor([1, 3, 2, 4, 3, 5]), batch_sizes=tensor([2, 2, 1, 1]), sorted_indices=None, unsorted_indices=None)"
      ]
     },
     "execution_count": 37,
     "metadata": {},
     "output_type": "execute_result"
    }
   ],
   "source": [
    "torch.nn.utils.rnn.pack_padded_sequence(b, batch_first=True, lengths=[4,2])"
   ]
  },
  {
   "cell_type": "code",
   "execution_count": 39,
   "id": "988e34eb-d340-4ce5-ae47-7bc4f321f07e",
   "metadata": {},
   "outputs": [
    {
     "name": "stdout",
     "output_type": "stream",
     "text": [
      "[tensor([1, 2, 3, 5]), tensor([3, 4])]\n",
      "tensor([[1, 2, 3, 5],\n",
      "        [3, 4, 0, 0]])\n"
     ]
    }
   ],
   "source": [
    "a = [torch.tensor([1,2,3,5]), torch.tensor([3,4])]\n",
    "print(a)\n",
    "b = torch.nn.utils.rnn.pad_sequence(a, batch_first=True)\n",
    "print(b)"
   ]
  },
  {
   "cell_type": "code",
   "execution_count": 40,
   "id": "0c321e5b-c193-4e30-98d6-172e805cf39c",
   "metadata": {},
   "outputs": [
    {
     "data": {
      "text/plain": [
       "PackedSequence(data=tensor([1, 3, 2, 4, 3, 5]), batch_sizes=tensor([2, 2, 1, 1]), sorted_indices=None, unsorted_indices=None)"
      ]
     },
     "execution_count": 40,
     "metadata": {},
     "output_type": "execute_result"
    }
   ],
   "source": [
    "b = torch.nn.utils.rnn.pack_sequence(a)\n",
    "b"
   ]
  },
  {
   "cell_type": "code",
   "execution_count": 19,
   "id": "4109c62f-a067-423a-b7df-d766f8fb96ea",
   "metadata": {},
   "outputs": [],
   "source": [
    "import os\n",
    "import numpy as np\n",
    "\n",
    "path='/Users/ryanqnelson/Desktop/test/content/competitions/11785-fall2021-hw3p2/HW3P2_Data'\n",
    "\n",
    "# add phoneme_list.py to path\n",
    "import sys\n",
    "sys.path.insert(1, path)\n",
    "\n",
    "import phoneme_list as pl\n",
    "import matplotlib.pyplot as plt"
   ]
  },
  {
   "cell_type": "code",
   "execution_count": 3,
   "id": "c00e883e-5d61-44aa-b6fc-fa7ac872bb3f",
   "metadata": {},
   "outputs": [
    {
     "data": {
      "text/plain": [
       "41"
      ]
     },
     "execution_count": 3,
     "metadata": {},
     "output_type": "execute_result"
    }
   ],
   "source": [
    "pl.N_PHONEMES"
   ]
  },
  {
   "cell_type": "code",
   "execution_count": 5,
   "id": "103e48bd-22aa-4a5c-a5fc-488f23e5dfc5",
   "metadata": {},
   "outputs": [
    {
     "data": {
      "text/plain": [
       "42"
      ]
     },
     "execution_count": 5,
     "metadata": {},
     "output_type": "execute_result"
    }
   ],
   "source": [
    "len(pl.PHONEME_LIST)"
   ]
  },
  {
   "cell_type": "code",
   "execution_count": 6,
   "id": "c775e944-1654-421f-bf36-e6295faff767",
   "metadata": {},
   "outputs": [
    {
     "data": {
      "text/plain": [
       "42"
      ]
     },
     "execution_count": 6,
     "metadata": {},
     "output_type": "execute_result"
    }
   ],
   "source": [
    "len(pl.PHONEME_MAP)"
   ]
  },
  {
   "cell_type": "code",
   "execution_count": 14,
   "id": "3a2bb4d8-92e7-46fe-a796-00344ae292e3",
   "metadata": {},
   "outputs": [
    {
     "data": {
      "text/plain": [
       "2200"
      ]
     },
     "execution_count": 14,
     "metadata": {},
     "output_type": "execute_result"
    }
   ],
   "source": [
    "val_labels = np.load(os.path.join(path,'dev_labels.npy'),allow_pickle=True)\n",
    "len(val_labels)"
   ]
  },
  {
   "cell_type": "code",
   "execution_count": 13,
   "id": "f2de7f7f-14e9-4ed0-9865-3c38259bcbc3",
   "metadata": {},
   "outputs": [
    {
     "data": {
      "text/plain": [
       "2200"
      ]
     },
     "execution_count": 13,
     "metadata": {},
     "output_type": "execute_result"
    }
   ],
   "source": [
    "val_data = np.load(os.path.join(path,'dev.npy'),allow_pickle=True)\n",
    "len(val_data)"
   ]
  },
  {
   "cell_type": "code",
   "execution_count": 21,
   "id": "74d286dc-5e8f-40bd-993f-40ee5ccbd4c9",
   "metadata": {},
   "outputs": [
    {
     "data": {
      "image/png": "[encoded data removed]",
      "text/plain": [
       "<Figure size 432x288 with 1 Axes>"
      ]
     },
     "metadata": {
      "needs_background": "light"
     },
     "output_type": "display_data"
    }
   ],
   "source": [
    "lengths = []\n",
    "for each in val_labels:\n",
    "    lengths.append(len(each))\n",
    "    \n",
    "plt.hist(lengths,50)\n",
    "plt.show()"
   ]
  },
  {
   "cell_type": "code",
   "execution_count": 24,
   "id": "61c9a26a-6e25-4e7d-9334-957bce266f75",
   "metadata": {},
   "outputs": [
    {
     "data": {
      "image/png": "[encoded data removed]",
      "text/plain": [
       "<Figure size 432x288 with 1 Axes>"
      ]
     },
     "metadata": {
      "needs_background": "light"
     },
     "output_type": "display_data"
    }
   ],
   "source": [
    "\n",
    "lengths = []\n",
    "for each in val_data:\n",
    "    lengths.append(each.shape[0])\n",
    "    \n",
    "plt.hist(lengths,50)\n",
    "plt.show()"
   ]
  },
  {
   "cell_type": "code",
   "execution_count": null,
   "id": "e8b87acd-336b-42e1-b0da-1a1ee913c4a0",
   "metadata": {},
   "outputs": [],
   "source": []
  }
 ],
 "metadata": {
  "kernelspec": {
   "display_name": "Python 3 (ipykernel)",
   "language": "python",
   "name": "python3"
  },
  "language_info": {
   "codemirror_mode": {
    "name": "ipython",
    "version": 3
   },
   "file_extension": ".py",
   "mimetype": "text/x-python",
   "name": "python",
   "nbconvert_exporter": "python",
   "pygments_lexer": "ipython3",
   "version": "3.8.11"
  }
 },
 "nbformat": 4,
 "nbformat_minor": 5
}
